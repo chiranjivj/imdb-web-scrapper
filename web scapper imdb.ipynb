{
 "cells": [
  {
   "cell_type": "code",
   "execution_count": 2,
   "id": "8f519f93",
   "metadata": {
    "scrolled": false
   },
   "outputs": [
    {
     "name": "stdout",
     "output_type": "stream",
     "text": [
      "https://www.imdb.com/search/title/?release_date=2022-01-01,2022-12-31&sort=num_votes,desc&start=501\n",
      "<Response [200]>\n",
      "Request:121; Frequency: 0.07473306706062141 requests/s\n"
     ]
    }
   ],
   "source": [
    "import numpy as np\n",
    "from requests import get\n",
    "from bs4 import BeautifulSoup\n",
    "from time import sleep,time\n",
    "from random import randint\n",
    "from warnings import warn\n",
    "from IPython.core.display import clear_output\n",
    "\n",
    "# Set the starting and ending years\n",
    "start_year = 2012\n",
    "end_year = 2022\n",
    "\n",
    "# Set the starting and ending pages\n",
    "start_page = 1\n",
    "end_page = 501\n",
    "\n",
    "# Set the increment for the pages\n",
    "page_increment = 50\n",
    "\n",
    "headers = {\"Accept-Language\": \"en-US, en;q=0.5\"}\n",
    "names = []\n",
    "years = []\n",
    "imdb_ratings = []\n",
    "metascores = []\n",
    "votes = []\n",
    "genres= []\n",
    "runtime=[]\n",
    "# Preparing the monitoring of the loop\n",
    "start_time = time()\n",
    "requests = 0\n",
    "\n",
    "# Loop through the years\n",
    "for year in range(start_year, end_year+1):\n",
    "    # Format the year for the URL\n",
    "    year_url = str(year) + '-01-01,' + str(year) + '-12-31'\n",
    "\n",
    "    # Loop through the pages\n",
    "    for page in range(start_page, end_page+1, page_increment):\n",
    "        # Make the URL\n",
    "        url = 'https://www.imdb.com/search/title/?release_date=' + year_url + '&sort=num_votes,desc&start=' + str(page)\n",
    "        # Make a request to the URL\n",
    "        \n",
    "        response = get(url, headers = headers)\n",
    "        # Process the response (e.g., extract data, save to a file, etc.)\n",
    "        \n",
    "\n",
    "        # Pause the loop\n",
    "        sleep(randint(8,15))\n",
    "\n",
    "        # Monitor the requests\n",
    "        requests += 1\n",
    "        elapsed_time = time() - start_time\n",
    "        print(url)\n",
    "        print(response)\n",
    "        print('Request:{}; Frequency: {} requests/s'.format(requests, requests/elapsed_time))\n",
    "        clear_output(wait = True)\n",
    "\n",
    "        # Throw a warning for non-200 status codes\n",
    "        if response.status_code != 200:\n",
    "            warn('Request: {}; Status code: {}'.format(requests, response.status_code))\n",
    "\n",
    "        # Break the loop if the number of requests is greater than expected\n",
    "        if requests > 200:\n",
    "            warn('Number of requests was greater than expected.')\n",
    "            break\n",
    "\n",
    "        # Parse the content of the request with BeautifulSoup\n",
    "        page_html = BeautifulSoup(response.text, 'html.parser')\n",
    "\n",
    "        # Select all the 50 movie containers from a single page\n",
    "        mv_containers = page_html.find_all('div', class_ = 'lister-item mode-advanced')\n",
    "\n",
    "        # For every movie of these 50\n",
    "        for container in mv_containers:\n",
    "            # If the movie has a Metascore, then:\n",
    "            if container.find('div', class_ = 'ratings-metascore') is not None:\n",
    "\n",
    "                # Scrape the name\n",
    "                name = container.h3.a.text\n",
    "                names.append(name)\n",
    "\n",
    "                # Scrape the year\n",
    "                year = container.h3.find('span', class_ = 'lister-item-year').text\n",
    "                years.append(year)\n",
    "                \n",
    "                # Scrape the runtime\n",
    "                run = container.find('span', {'class': 'runtime'}).text\n",
    "                run=run.strip().replace(' min','')\n",
    "                runtime.append(int(run))\n",
    "                \n",
    "                # Scrape the genre\n",
    "                genre = container.find('span', {'class': 'genre'}).text\n",
    "                genre = genre.strip().replace('\\n', '')\n",
    "                genres.append(genre)\n",
    "\n",
    "                # Scrape the IMDB rating\n",
    "                imdb = float(container.strong.text)\n",
    "                imdb_ratings.append(imdb)\n",
    "\n",
    "                # Scrape the Metascore\n",
    "                m_score = container.find('span', class_ = 'metascore').text\n",
    "                metascores.append(int(m_score))\n",
    "\n",
    "                # Scrape the number of votes\n",
    "                vote = container.find('span', attrs = {'name':'nv'})['data-value']\n",
    "                votes.append(int(vote))"
   ]
  },
  {
   "cell_type": "code",
   "execution_count": 5,
   "id": "252144eb",
   "metadata": {},
   "outputs": [
    {
     "name": "stdout",
     "output_type": "stream",
     "text": [
      "2990 2990 2990 2990 2990 2990 2990\n"
     ]
    }
   ],
   "source": [
    "print(len(names), len(years),len(imdb_ratings), len(metascores), len(votes), len(genres), len(runtime))"
   ]
  },
  {
   "cell_type": "code",
   "execution_count": 6,
   "id": "442410db",
   "metadata": {},
   "outputs": [],
   "source": [
    "import pandas as pd\n",
    "data = {\n",
    "    'name': names,\n",
    "    'year': years,\n",
    "    'imdb_rating': imdb_ratings,\n",
    "    'metascore': metascores,\n",
    "    'votes': votes,\n",
    "    'genre' : genres,\n",
    "    'runtime' : runtime\n",
    "}\n",
    "movie=pd.DataFrame(data)"
   ]
  },
  {
   "cell_type": "code",
   "execution_count": 7,
   "id": "921e2024",
   "metadata": {},
   "outputs": [
    {
     "data": {
      "text/html": [
       "<div>\n",
       "<style scoped>\n",
       "    .dataframe tbody tr th:only-of-type {\n",
       "        vertical-align: middle;\n",
       "    }\n",
       "\n",
       "    .dataframe tbody tr th {\n",
       "        vertical-align: top;\n",
       "    }\n",
       "\n",
       "    .dataframe thead th {\n",
       "        text-align: right;\n",
       "    }\n",
       "</style>\n",
       "<table border=\"1\" class=\"dataframe\">\n",
       "  <thead>\n",
       "    <tr style=\"text-align: right;\">\n",
       "      <th></th>\n",
       "      <th>name</th>\n",
       "      <th>year</th>\n",
       "      <th>imdb_rating</th>\n",
       "      <th>metascore</th>\n",
       "      <th>votes</th>\n",
       "      <th>genre</th>\n",
       "      <th>runtime</th>\n",
       "    </tr>\n",
       "  </thead>\n",
       "  <tbody>\n",
       "    <tr>\n",
       "      <th>0</th>\n",
       "      <td>The Dark Knight Rises</td>\n",
       "      <td>(2012)</td>\n",
       "      <td>8.4</td>\n",
       "      <td>78</td>\n",
       "      <td>1707459</td>\n",
       "      <td>Action, Drama</td>\n",
       "      <td>164</td>\n",
       "    </tr>\n",
       "    <tr>\n",
       "      <th>1</th>\n",
       "      <td>Django Unchained</td>\n",
       "      <td>(2012)</td>\n",
       "      <td>8.4</td>\n",
       "      <td>81</td>\n",
       "      <td>1557229</td>\n",
       "      <td>Drama, Western</td>\n",
       "      <td>165</td>\n",
       "    </tr>\n",
       "    <tr>\n",
       "      <th>2</th>\n",
       "      <td>The Avengers</td>\n",
       "      <td>(2012)</td>\n",
       "      <td>8.0</td>\n",
       "      <td>69</td>\n",
       "      <td>1393706</td>\n",
       "      <td>Action, Adventure, Sci-Fi</td>\n",
       "      <td>143</td>\n",
       "    </tr>\n",
       "    <tr>\n",
       "      <th>3</th>\n",
       "      <td>The Hunger Games</td>\n",
       "      <td>(2012)</td>\n",
       "      <td>7.2</td>\n",
       "      <td>68</td>\n",
       "      <td>922420</td>\n",
       "      <td>Action, Adventure, Sci-Fi</td>\n",
       "      <td>142</td>\n",
       "    </tr>\n",
       "    <tr>\n",
       "      <th>4</th>\n",
       "      <td>The Hobbit: An Unexpected Journey</td>\n",
       "      <td>(2012)</td>\n",
       "      <td>7.8</td>\n",
       "      <td>58</td>\n",
       "      <td>831915</td>\n",
       "      <td>Adventure, Fantasy</td>\n",
       "      <td>169</td>\n",
       "    </tr>\n",
       "  </tbody>\n",
       "</table>\n",
       "</div>"
      ],
      "text/plain": [
       "                                name    year  imdb_rating  metascore    votes  \\\n",
       "0              The Dark Knight Rises  (2012)          8.4         78  1707459   \n",
       "1                   Django Unchained  (2012)          8.4         81  1557229   \n",
       "2                       The Avengers  (2012)          8.0         69  1393706   \n",
       "3                   The Hunger Games  (2012)          7.2         68   922420   \n",
       "4  The Hobbit: An Unexpected Journey  (2012)          7.8         58   831915   \n",
       "\n",
       "                       genre  runtime  \n",
       "0              Action, Drama      164  \n",
       "1             Drama, Western      165  \n",
       "2  Action, Adventure, Sci-Fi      143  \n",
       "3  Action, Adventure, Sci-Fi      142  \n",
       "4         Adventure, Fantasy      169  "
      ]
     },
     "execution_count": 7,
     "metadata": {},
     "output_type": "execute_result"
    }
   ],
   "source": [
    "movie.head()"
   ]
  },
  {
   "cell_type": "code",
   "execution_count": 8,
   "id": "44356df1",
   "metadata": {},
   "outputs": [
    {
     "data": {
      "text/plain": [
       "(2990, 7)"
      ]
     },
     "execution_count": 8,
     "metadata": {},
     "output_type": "execute_result"
    }
   ],
   "source": [
    "movie.shape"
   ]
  },
  {
   "cell_type": "code",
   "execution_count": 15,
   "id": "51f3cc78",
   "metadata": {},
   "outputs": [
    {
     "data": {
      "text/plain": [
       "name           0\n",
       "year           0\n",
       "imdb_rating    0\n",
       "metascore      0\n",
       "votes          0\n",
       "genre          0\n",
       "runtime        0\n",
       "dtype: int64"
      ]
     },
     "execution_count": 15,
     "metadata": {},
     "output_type": "execute_result"
    }
   ],
   "source": [
    "movie.isna().sum()"
   ]
  },
  {
   "cell_type": "code",
   "execution_count": 17,
   "id": "d8d4c3d2",
   "metadata": {},
   "outputs": [],
   "source": [
    "movie.to_csv('imdb_2012_to_2014.csv', index=False)"
   ]
  },
  {
   "cell_type": "code",
   "execution_count": null,
   "id": "7b9c8271",
   "metadata": {},
   "outputs": [],
   "source": []
  }
 ],
 "metadata": {
  "kernelspec": {
   "display_name": "Python 3 (ipykernel)",
   "language": "python",
   "name": "python3"
  },
  "language_info": {
   "codemirror_mode": {
    "name": "ipython",
    "version": 3
   },
   "file_extension": ".py",
   "mimetype": "text/x-python",
   "name": "python",
   "nbconvert_exporter": "python",
   "pygments_lexer": "ipython3",
   "version": "3.9.13"
  }
 },
 "nbformat": 4,
 "nbformat_minor": 5
}
